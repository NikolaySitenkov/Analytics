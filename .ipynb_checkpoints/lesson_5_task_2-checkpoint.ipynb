{
 "cells": [
  {
   "cell_type": "code",
   "execution_count": 1,
   "id": "c4be08f3-e3b2-40bc-bf29-dcce82755df5",
   "metadata": {},
   "outputs": [],
   "source": [
    "import pandas as pd\n",
    "import numpy as np\n",
    "import pandahouse as ph\n",
    "import seaborn as sns\n",
    "from scipy import stats\n",
    "import hashlib\n",
    "from IPython.display import display\n",
    "from matplotlib import pyplot as plt\n",
    "import warnings\n",
    "\n",
    "\n",
    "warnings.filterwarnings(\"ignore\")\n",
    "\n",
    "\n",
    "\n",
    "sns.set(\n",
    "    font_scale=1,\n",
    "    style=\"whitegrid\",\n",
    "    rc={\"figure.figsize\": (10, 7)}\n",
    ")"
   ]
  },
  {
   "cell_type": "markdown",
   "id": "8fe0ac75-3543-4514-a327-828f7f44caf2",
   "metadata": {},
   "source": [
    "Пришло время проанализировать результаты эксперимента, который мы провели вместе с командой дата сайентистов. Эксперимент проходил с 2022-12-02 по 2022-12-08 включительно. Для эксперимента были задействованы 2 и 1 группы. \n",
    "\n",
    "В группе 2 был использован один из новых алгоритмов рекомендации постов, группа 1 использовалась в качестве контроля. \n",
    "\n",
    "Основная гипотеза заключается в том, что новый алгоритм во 2-й группе приведет к увеличению CTR. \n",
    "\n",
    "Ваша задача — проанализировать данные АB-теста. \n",
    "\n",
    "1. Выбрать метод анализа и сравнить CTR в двух группах (мы разбирали t-тест, Пуассоновский бутстреп, тест Манна-Уитни, t-тест на сглаженном ctr (α=5) а также t-тест и тест Манна-Уитни поверх бакетного преобразования).\n",
    "\n",
    "2. Сравните данные этими тестами. А еще посмотрите на распределения глазами. Почему тесты сработали так как сработали? \n",
    "\n",
    "3. Опишите потенциальную ситуацию, когда такое изменение могло произойти. Тут нет идеального ответа, подумайте.\n",
    "\n",
    "4. Напишите рекомендацию, будем ли мы раскатывать новый алгоритм на всех новых пользователей или все-таки не стоит."
   ]
  },
  {
   "cell_type": "markdown",
   "id": "e7b1f4bc-7cc2-4cf9-8433-69d5541c1fe1",
   "metadata": {},
   "source": [
    "## Функции"
   ]
  },
  {
   "cell_type": "code",
   "execution_count": 2,
   "id": "ba20dddf-9e76-45c5-ba38-84aa32e20ebb",
   "metadata": {},
   "outputs": [],
   "source": [
    "def get_smoothed_ctr(user_likes, user_views, global_ctr, alpha):\n",
    "    \"\"\"\n",
    "    Функция сглаживания ctr\n",
    "    \"\"\"\n",
    "    smoothed_ctr = (user_likes + alpha * global_ctr) / (user_views + alpha)\n",
    "    \n",
    "    return smoothed_ctr\n",
    "\n",
    "\n",
    "def calc_global_ctr(data, num_gr):\n",
    "    \"\"\"\n",
    "    Функция рассчета ctr для группы\n",
    "    \"\"\"\n",
    "    sum_likes = data[data.exp_group == num_gr].likes.sum()\n",
    "    sum_views = data[data.exp_group == num_gr].views.sum()\n",
    "    \n",
    "    return sum_likes / sum_views\n",
    "\n",
    "\n",
    "def poisson_bootstrap(likes1, views1, likes2, views2, n_bootstrap=1000):\n",
    "    \"\"\"\n",
    "    Функция Пуассонского бутстрапа\n",
    "    \"\"\"\n",
    "    p_bt1 = stats.poisson(1).rvs((n_bootstrap, len(likes1))).astype(np.int64)\n",
    "    p_bt2 = stats.poisson(1).rvs((n_bootstrap, len(likes2))).astype(np.int64)\n",
    "\n",
    "    global_ctr_1 = (p_bt1 * likes1).sum(axis=1) / (p_bt1 * views1).sum(axis=1)\n",
    "    global_ctr_2 = (p_bt2 * likes2).sum(axis=1) / (p_bt2 * views2).sum(axis=1)\n",
    "    \n",
    "    return global_ctr_1, global_ctr_2\n",
    "\n",
    "\n",
    "def bucket_split(us_id, n_groups=50):\n",
    "    \"\"\"\n",
    "    Функция формирования бакетов\n",
    "    \"\"\"\n",
    "    test_id_digest = hashlib.md5(str(us_id).encode('ascii')).hexdigest()\n",
    "    test_id_final_int = int(test_id_digest, 16)\n",
    "\n",
    "    return 1 + (test_id_final_int % n_groups)\n"
   ]
  },
  {
   "cell_type": "markdown",
   "id": "8db546f0-eac9-4bbb-b68c-94f556566062",
   "metadata": {},
   "source": [
    "## Получение данных"
   ]
  },
  {
   "cell_type": "code",
   "execution_count": 3,
   "id": "a2f07d51-1556-480f-8fb8-a87eb5aeeb9b",
   "metadata": {},
   "outputs": [],
   "source": [
    "connection = {'host': 'https://karpov_courses_clickhouse_db',\n",
    "              'database':'simulator_20221220',\n",
    "              'user':'user_name', \n",
    "              'password':'password'\n",
    "             }\n",
    "\n",
    "query = '''\n",
    "SELECT user_id,\n",
    "       exp_group,\n",
    "       sum(action = 'view') AS views,\n",
    "       sum(action = 'like') AS likes,\n",
    "       likes / views as ctr   \n",
    "FROM {db}.feed_actions\n",
    "WHERE toDate(time) BETWEEN '2022-12-02' AND '2022-12-08'\n",
    "      AND exp_group IN (2, 1)\n",
    "GROUP BY exp_group, user_id\n",
    "'''\n",
    "\n",
    "df_ctr = ph.read_clickhouse(query, connection=connection)"
   ]
  },
  {
   "cell_type": "markdown",
   "id": "592e98aa-8e0a-409e-973c-54dd2dd46b92",
   "metadata": {},
   "source": [
    "## Дополенение данных"
   ]
  },
  {
   "cell_type": "code",
   "execution_count": 4,
   "id": "e6383475-e8b4-44a5-af4e-63b320d427c4",
   "metadata": {},
   "outputs": [],
   "source": [
    "# Формирование бакетов\n",
    "df_ctr[\"bucket\"] = df_ctr.user_id.apply(lambda x: bucket_split(x))\n",
    "\n",
    "# Формирование групповых датафреймов\n",
    "group_1 = df_ctr[df_ctr.exp_group == 1]\n",
    "group_2 = df_ctr[df_ctr.exp_group == 2]\n",
    "\n",
    "# Формирование сглаженного ctr\n",
    "group_1[\"smoothed_ctr\"] = get_smoothed_ctr(group_1[\"likes\"], group_1[\"views\"], \n",
    "                                           calc_global_ctr(df_ctr, 1), 5)\n",
    "group_2[\"smoothed_ctr\"] = get_smoothed_ctr(group_2[\"likes\"], group_2[\"views\"], \n",
    "                                           calc_global_ctr(df_ctr, 2), 5)"
   ]
  },
  {
   "cell_type": "markdown",
   "id": "c1c3420d-2550-4d87-98e0-afc94099efc2",
   "metadata": {},
   "source": [
    "## A/B тест"
   ]
  },
  {
   "cell_type": "markdown",
   "id": "3d6f4f32-3e30-403c-a868-616f9c5d40a1",
   "metadata": {},
   "source": [
    "### t-тест"
   ]
  },
  {
   "cell_type": "code",
   "execution_count": 5,
   "id": "0d3305f8-27d1-4c74-8939-510b0a3e80d9",
   "metadata": {},
   "outputs": [
    {
     "name": "stdout",
     "output_type": "stream",
     "text": [
      "p-value: 0.4780623130874935\n",
      "decision: accept\n"
     ]
    }
   ],
   "source": [
    "t_test_pval = stats.ttest_ind(group_1.ctr, \n",
    "                              group_2.ctr, \n",
    "                              equal_var=False).pvalue\n",
    "print(\"p-value:\", t_test_pval)\n",
    "print(\"decision:\", \"reject\" if t_test_pval <= 0.05 else \"accept\")"
   ]
  },
  {
   "cell_type": "code",
   "execution_count": 6,
   "id": "ec38bc3c-6d46-41a4-a5e9-6822b095b3dd",
   "metadata": {},
   "outputs": [
    {
     "data": {
      "image/png": "[encoded data removed]",
      "text/plain": [
       "<Figure size 720x504 with 1 Axes>"
      ]
     },
     "metadata": {},
     "output_type": "display_data"
    }
   ],
   "source": [
    "sns.histplot(group_1.ctr, color=\"r\")\n",
    "sns.histplot(group_2.ctr, color=\"g\")\n",
    "plt.show()"
   ]
  },
  {
   "cell_type": "markdown",
   "id": "d87a9ab0-be7a-47da-94db-2a104ede18d3",
   "metadata": {},
   "source": [
    "### Пуассоновский бутстреп"
   ]
  },
  {
   "cell_type": "code",
   "execution_count": 7,
   "id": "7ffdff68-f974-426f-838d-8c3e8e888d4c",
   "metadata": {},
   "outputs": [],
   "source": [
    "likes1 = group_1.likes.to_numpy()\n",
    "views1 = group_1.views.to_numpy()\n",
    "likes2 = group_2.likes.to_numpy()\n",
    "views2 = group_2.views.to_numpy()\n",
    "\n",
    "ctr1_bp, ctr2_bp = poisson_bootstrap(likes1, views1, likes2, views2)"
   ]
  },
  {
   "cell_type": "code",
   "execution_count": 8,
   "id": "96fe0f7b-21cb-47e3-b233-47726dee88c6",
   "metadata": {},
   "outputs": [
    {
     "data": {
      "image/png": "[encoded data removed]",
      "text/plain": [
       "<Figure size 720x504 with 1 Axes>"
      ]
     },
     "metadata": {},
     "output_type": "display_data"
    }
   ],
   "source": [
    "sns.histplot(ctr1_bp, color=\"r\")\n",
    "sns.histplot(ctr2_bp, color=\"g\")\n",
    "plt.show()"
   ]
  },
  {
   "cell_type": "code",
   "execution_count": 9,
   "id": "e898f195-dc52-4a23-8fd0-952487c59d6e",
   "metadata": {},
   "outputs": [
    {
     "data": {
      "image/png": "[encoded data removed]",
      "text/plain": [
       "<Figure size 720x504 with 1 Axes>"
      ]
     },
     "metadata": {},
     "output_type": "display_data"
    }
   ],
   "source": [
    "sns.histplot(ctr2_bp - ctr1_bp)\n",
    "plt.show()"
   ]
  },
  {
   "cell_type": "markdown",
   "id": "559e3f37-4f23-491f-ab3d-b16cd8880f70",
   "metadata": {},
   "source": [
    "Распределения не пересекаются, распределение разницы ctr'ов не включает 0, ctr группы 2 меньше ctr группы 1."
   ]
  },
  {
   "cell_type": "markdown",
   "id": "f59cec56-2cba-48fd-bc8d-2f26dea02b94",
   "metadata": {},
   "source": [
    "### Тест Манна-Уитни"
   ]
  },
  {
   "cell_type": "code",
   "execution_count": 10,
   "id": "1e671eb8-ce58-4c1b-9e56-fea60370e92d",
   "metadata": {},
   "outputs": [
    {
     "name": "stdout",
     "output_type": "stream",
     "text": [
      "p-value: 6.0376484617779035e-56\n",
      "decision: reject\n"
     ]
    }
   ],
   "source": [
    "mw_pval = stats.mannwhitneyu(group_1.ctr, \n",
    "                             group_2.ctr).pvalue\n",
    "print(\"p-value:\", mw_pval)\n",
    "print(\"decision:\", \"reject\" if mw_pval <= 0.05 else \"accept\")"
   ]
  },
  {
   "cell_type": "markdown",
   "id": "bca47252-4c5d-45f5-ad70-590daec4b3b7",
   "metadata": {},
   "source": [
    "###  t-тест на сглаженном ctr (α=5)"
   ]
  },
  {
   "cell_type": "code",
   "execution_count": 11,
   "id": "ea8cb7bb-c1ed-45a3-8b86-baf188e9591a",
   "metadata": {},
   "outputs": [
    {
     "name": "stdout",
     "output_type": "stream",
     "text": [
      "p-value: 0.0223769815558559\n",
      "decision: reject\n"
     ]
    }
   ],
   "source": [
    "t_test_smooth_pval = stats.ttest_ind(group_1.smoothed_ctr, \n",
    "                                     group_2.smoothed_ctr, \n",
    "                                     equal_var=False).pvalue\n",
    "print(\"p-value:\", t_test_smooth_pval)\n",
    "print(\"decision:\", \"reject\" if t_test_smooth_pval <= 0.05 else \"accept\")"
   ]
  },
  {
   "cell_type": "code",
   "execution_count": 12,
   "id": "5c6de220-0b1a-493b-bfed-3e4cb59cafdc",
   "metadata": {},
   "outputs": [
    {
     "data": {
      "image/png": "[encoded data removed]",
      "text/plain": [
       "<Figure size 720x504 with 1 Axes>"
      ]
     },
     "metadata": {},
     "output_type": "display_data"
    }
   ],
   "source": [
    "sns.histplot(group_1.smoothed_ctr, color=\"r\")\n",
    "sns.histplot(group_2.smoothed_ctr, color=\"g\")\n",
    "plt.show()"
   ]
  },
  {
   "cell_type": "markdown",
   "id": "cad25e6f-5a18-43f3-ae0d-c78ac8cf30c2",
   "metadata": {},
   "source": [
    "### t-тест поверх бакетного преобразования"
   ]
  },
  {
   "cell_type": "code",
   "execution_count": 13,
   "id": "0d0309d1-1596-422c-aece-3266d61bef1f",
   "metadata": {},
   "outputs": [],
   "source": [
    "b_gr_1 = group_1.groupby(\"bucket\", as_index=False).agg({\"views\": \"sum\", \n",
    "                                                        \"likes\": \"sum\"})\n",
    "b_gr_1[\"ctr\"] = b_gr_1[\"likes\"] / b_gr_1[\"views\"]\n",
    "\n",
    "b_gr_2 = group_2.groupby(\"bucket\", as_index=False).agg({\"views\": \"sum\", \n",
    "                                                        \"likes\": \"sum\"})\n",
    "b_gr_2[\"ctr\"] = b_gr_2[\"likes\"] / b_gr_2[\"views\"]"
   ]
  },
  {
   "cell_type": "code",
   "execution_count": 14,
   "id": "9b9853a1-aa9e-4187-92ec-d28fcd58b67a",
   "metadata": {},
   "outputs": [
    {
     "name": "stdout",
     "output_type": "stream",
     "text": [
      "p-value: 1.3145563094210288e-07\n",
      "decision: reject\n"
     ]
    }
   ],
   "source": [
    "t_test_bucket_pval = stats.ttest_ind(b_gr_1.ctr, \n",
    "                                     b_gr_2.ctr, \n",
    "                                     equal_var=False).pvalue\n",
    "print(\"p-value:\", t_test_bucket_pval)\n",
    "print(\"decision:\", \"reject\" if t_test_bucket_pval <= 0.05 else \"accept\")"
   ]
  },
  {
   "cell_type": "markdown",
   "id": "fc796dff-6c87-4d53-ade0-2f546f100124",
   "metadata": {},
   "source": [
    "### Тест Манна-Уитни поверх бакетного преобразования"
   ]
  },
  {
   "cell_type": "code",
   "execution_count": 15,
   "id": "1a4981ee-3745-44b2-aa62-8a62e4a33fa9",
   "metadata": {},
   "outputs": [
    {
     "name": "stdout",
     "output_type": "stream",
     "text": [
      "p-value: 6.799756244377456e-07\n",
      "decision: reject\n"
     ]
    }
   ],
   "source": [
    "mw_bucket_pval = stats.mannwhitneyu(b_gr_1.ctr, \n",
    "                                    b_gr_2.ctr).pvalue\n",
    "print(\"p-value:\", mw_bucket_pval)\n",
    "print(\"decision:\", \"reject\" if mw_bucket_pval <= 0.05 else \"accept\")"
   ]
  },
  {
   "cell_type": "code",
   "execution_count": 16,
   "id": "67e24497-6b1f-4f5f-8d44-b02e9d5a81c1",
   "metadata": {},
   "outputs": [
    {
     "data": {
      "image/png": "[encoded data removed]",
      "text/plain": [
       "<Figure size 720x504 with 1 Axes>"
      ]
     },
     "metadata": {},
     "output_type": "display_data"
    }
   ],
   "source": [
    "sns.histplot(b_gr_1.ctr, color=\"r\")\n",
    "sns.histplot(b_gr_2.ctr, color=\"g\")\n",
    "plt.show()"
   ]
  },
  {
   "cell_type": "markdown",
   "id": "cc0d7939-3341-403a-b680-131d3c7ef955",
   "metadata": {},
   "source": [
    "## Статистики по CTR"
   ]
  },
  {
   "cell_type": "markdown",
   "id": "78c24d91-c157-4d9e-8a31-49eb4d23719a",
   "metadata": {},
   "source": [
    "### Обычные данные"
   ]
  },
  {
   "cell_type": "code",
   "execution_count": 17,
   "id": "74091e9c-9fbb-46ee-a27a-4ef11010d535",
   "metadata": {},
   "outputs": [
    {
     "name": "stdout",
     "output_type": "stream",
     "text": [
      "Среднее группы 1: 0.2156\n",
      "Среднее группы 2: 0.21442\n",
      "Разница средних: -0.00119\n",
      "Дисперсия группы 1: 0.00708\n",
      "Дисперсия группы 2: 0.02079\n"
     ]
    }
   ],
   "source": [
    "print(\"Среднее группы 1:\", round(group_1.ctr.mean(), 5))\n",
    "print(\"Среднее группы 2:\", round(group_2.ctr.mean(), 5))\n",
    "print(\"Разница средних:\", round(group_2.ctr.mean() - group_1.ctr.mean(), 5))\n",
    "print(\"Дисперсия группы 1:\", round(group_1.ctr.var(), 5))\n",
    "print(\"Дисперсия группы 2:\", round(group_2.ctr.var(), 5))"
   ]
  },
  {
   "cell_type": "markdown",
   "id": "1454ed0e-81ee-41ea-a4ec-8302c70b4780",
   "metadata": {},
   "source": [
    "### Сглаженные данные"
   ]
  },
  {
   "cell_type": "code",
   "execution_count": 18,
   "id": "0b644865-e67e-4a21-9b12-7d2a567645b2",
   "metadata": {},
   "outputs": [
    {
     "name": "stdout",
     "output_type": "stream",
     "text": [
      "Среднее группы 1: 0.21403\n",
      "Среднее группы 2: 0.21074\n",
      "Разница средних: -0.00329\n",
      "Дисперсия группы 1: 0.00509\n",
      "Дисперсия группы 2: 0.01557\n"
     ]
    }
   ],
   "source": [
    "print(\"Среднее группы 1:\", \n",
    "      round(group_1.smoothed_ctr.mean(), 5))\n",
    "print(\"Среднее группы 2:\", \n",
    "      round(group_2.smoothed_ctr.mean(), 5))\n",
    "print(\"Разница средних:\", \n",
    "      round(group_2.smoothed_ctr.mean() - group_1.smoothed_ctr.mean(), 5))\n",
    "print(\"Дисперсия группы 1:\", \n",
    "      round(group_1.smoothed_ctr.var(), 5))\n",
    "print(\"Дисперсия группы 2:\", \n",
    "      round(group_2.smoothed_ctr.var(), 5))"
   ]
  },
  {
   "cell_type": "markdown",
   "id": "e24b09e8-b22c-41b8-8995-55980ed49373",
   "metadata": {},
   "source": [
    "### Бакетные данные"
   ]
  },
  {
   "cell_type": "code",
   "execution_count": 19,
   "id": "5b91fa6b-4559-4f67-81b9-ff5979dbae72",
   "metadata": {},
   "outputs": [
    {
     "name": "stdout",
     "output_type": "stream",
     "text": [
      "Среднее группы 1: 0.2081\n",
      "Среднее группы 2: 0.19822\n",
      "Разница средних: -0.00988\n",
      "Дисперсия группы 1: 3e-05\n",
      "Дисперсия группы 2: 0.00011\n"
     ]
    }
   ],
   "source": [
    "print(\"Среднее группы 1:\", round(b_gr_1.ctr.mean(), 5))\n",
    "print(\"Среднее группы 2:\", round(b_gr_2.ctr.mean(), 5))\n",
    "print(\"Разница средних:\", round(b_gr_2.ctr.mean() - b_gr_1.ctr.mean(), 5))\n",
    "print(\"Дисперсия группы 1:\", round(b_gr_1.ctr.var(), 5))\n",
    "print(\"Дисперсия группы 2:\", round(b_gr_2.ctr.var(), 5))"
   ]
  },
  {
   "cell_type": "markdown",
   "id": "4d5005ca-dc0a-4d05-bbb7-0cc8fe77bcb7",
   "metadata": {},
   "source": [
    "### Вывод:"
   ]
  },
  {
   "cell_type": "markdown",
   "id": "a6b9a78a-d311-49c7-8062-34e4b9bdfb1d",
   "metadata": {},
   "source": [
    "1) Как мы видим выше мы получили accept только по обычному t-test'у, а по всем остальным reject, если мы рассмотрим обычные ctr данные и сравним их со сглаженными и бакетными, то заметим, что разница между средними у обычных данных почти в 3 раза меньше, чем у сглаженных и в 8 раз меньше, чем у бакетных. Дисперсии у обычных данных на примерно процентов 30 больше, чем у сглаженных и в сотни раз больше, чем у бакетных. То есть из-за маленькой разницы и больших дисперсий можности t-test'а на обычных данных не хватило чтобы обнаружить эффект, но так как распределения разные и их характер сильно отличается, на обычных данных вышло обнаружить значимые различия на тесте Манна-Уитни. В остальных случаях разницы между средними и размеров дисперсий хватило для того чтобы обнаружить значимые различия между группами.\n",
    "\n",
    "2) Мы заметили довольно странное распределение сглаженных и обычных CTR, оно напоминает бимодальное распределение, которое не характерно обычному распределению CTR, Это могло случиться по нескольким ситуациям: \n",
    "- скорее всего в группе 2 была одна рекомендательная система, а затем случайно или нарошно была поставлена другая.\n",
    "- возможно рекоммендательная система очень странно работает, она рекомендует что-то что сильно не нравится пользователям и то, что немного нравится пользователям.\n",
    "- можно предположить что это 2 слитых унимодальных распределения и в данную группу залили 2 рекомендательные системы с разными характерами поведения, что привело к такому характеру работы.\n",
    "\n",
    "3) Несмотря на то, что в большинстве случаем мы заметили значимые различия между группами, пока мы не разберемся что случилось со второй группой, раскатывать данных алгоритм не рекомендуется, поэтому: \n",
    "- Если проблема с ошибкой внедрения алгоритма, то заново запустить A/B тест для этой группы. \n",
    "- Если проблема с некорректной работой рекоммендательной системы, то раскатывать нельзя. \n",
    "- Если поведение системы так задумывалось, то можно раскотить эти изменения"
   ]
  },
  {
   "cell_type": "code",
   "execution_count": null,
   "id": "ba9714b4-ab14-4dd3-9a5d-ec58beb8de22",
   "metadata": {},
   "outputs": [],
   "source": []
  }
 ],
 "metadata": {
  "kernelspec": {
   "display_name": "Python 3 (ipykernel)",
   "language": "python",
   "name": "python3"
  },
  "language_info": {
   "codemirror_mode": {
    "name": "ipython",
    "version": 3
   },
   "file_extension": ".py",
   "mimetype": "text/x-python",
   "name": "python",
   "nbconvert_exporter": "python",
   "pygments_lexer": "ipython3",
   "version": "3.9.13"
  }
 },
 "nbformat": 4,
 "nbformat_minor": 5
}
