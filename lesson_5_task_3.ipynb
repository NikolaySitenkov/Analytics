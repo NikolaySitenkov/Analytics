{
 "cells": [
  {
   "cell_type": "code",
   "execution_count": 1,
   "id": "d34e3b41-e2ac-409e-8e28-1c951a4b3d17",
   "metadata": {},
   "outputs": [],
   "source": [
    "import pandas as pd\n",
    "import numpy as np\n",
    "import pandahouse as ph\n",
    "import seaborn as sns\n",
    "from scipy import stats\n",
    "import hashlib\n",
    "from IPython.display import display\n",
    "from matplotlib import pyplot as plt\n",
    "import warnings\n",
    "\n",
    "\n",
    "warnings.filterwarnings(\"ignore\")\n",
    "\n",
    "\n",
    "\n",
    "sns.set(\n",
    "    font_scale=1,\n",
    "    style=\"whitegrid\",\n",
    "    rc={\"figure.figsize\": (10, 7)}\n",
    ")"
   ]
  },
  {
   "cell_type": "markdown",
   "id": "c1944d58-c865-4dc1-8b36-5ed28cf3c029",
   "metadata": {},
   "source": [
    "**Задача**\n",
    "\n",
    "- Проанализируйте тест между группами 0 и 3 по метрике линеаризованных лайков. Видно ли отличие? Стало ли 𝑝−𝑣𝑎𝑙𝑢𝑒 меньше?\n",
    "- Проанализируйте тест между группами 1 и 2 по метрике линеаризованных лайков. Видно ли отличие? Стало ли 𝑝−𝑣𝑎𝑙𝑢𝑒 меньше?"
   ]
  },
  {
   "cell_type": "markdown",
   "id": "0b390043-0d83-4f80-839c-fe67067a96bc",
   "metadata": {},
   "source": [
    "## Выгрузка данных"
   ]
  },
  {
   "cell_type": "code",
   "execution_count": 2,
   "id": "bd0cb061-538f-4493-aad1-02ef2a8362cb",
   "metadata": {},
   "outputs": [],
   "source": [
    "connection = {'host': 'https://karpov_courses_clickhouse_db',\n",
    "              'database':'simulator_20221220',\n",
    "              'user':'user_name', \n",
    "              'password':'password'\n",
    "             }\n",
    "\n",
    "query = '''\n",
    "SELECT user_id,\n",
    "       exp_group,\n",
    "       sum(action = 'view') AS views,\n",
    "       sum(action = 'like') AS likes,\n",
    "       likes / views as ctr  \n",
    "FROM {db}.feed_actions\n",
    "WHERE toDate(time) BETWEEN '2022-12-02' AND '2022-12-08'\n",
    "      AND exp_group IN (0, 1, 2, 3)\n",
    "GROUP BY exp_group, user_id\n",
    "'''\n",
    "\n",
    "df_ctr = ph.read_clickhouse(query, connection=connection)"
   ]
  },
  {
   "cell_type": "markdown",
   "id": "8a13acfd-4d00-4856-aad4-aa3423987126",
   "metadata": {},
   "source": [
    "## Дополнение данных"
   ]
  },
  {
   "cell_type": "code",
   "execution_count": 3,
   "id": "2237b454-febd-4c92-8f55-68e78bf838a1",
   "metadata": {},
   "outputs": [],
   "source": [
    "# Формирование групповых датафреймов\n",
    "group_0 = df_ctr[df_ctr.exp_group == 0]\n",
    "group_1 = df_ctr[df_ctr.exp_group == 1]\n",
    "group_2 = df_ctr[df_ctr.exp_group == 2]\n",
    "group_3 = df_ctr[df_ctr.exp_group == 3]\n",
    "\n",
    "# Рассчеты CTR\n",
    "ctr_0 = group_0.likes.sum() / group_0.views.sum()\n",
    "ctr_1 = group_1.likes.sum() / group_1.views.sum()\n",
    "\n",
    "# Рассчеты linearized likes\n",
    "group_0[\"linearized_likes\"] = group_0.likes - ctr_0 * group_0.views\n",
    "group_1[\"linearized_likes\"] = group_1.likes - ctr_1 * group_1.views\n",
    "group_2[\"linearized_likes\"] = group_2.likes - ctr_1 * group_2.views\n",
    "group_3[\"linearized_likes\"] = group_3.likes - ctr_0 * group_3.views"
   ]
  },
  {
   "cell_type": "markdown",
   "id": "0cdcad7f-4c24-4af3-9ea5-edc60ebc6fbd",
   "metadata": {},
   "source": [
    "##  A/B тест"
   ]
  },
  {
   "cell_type": "markdown",
   "id": "5ed148fc-2b20-4aeb-ba8c-b8f937fc6b4a",
   "metadata": {},
   "source": [
    "###  t-тест для CTR"
   ]
  },
  {
   "cell_type": "markdown",
   "id": "f0992866-db6d-4038-a62d-df48d4c59589",
   "metadata": {},
   "source": [
    "Группы 0 и 3"
   ]
  },
  {
   "cell_type": "code",
   "execution_count": 4,
   "id": "88e041a6-d4f3-4e68-bdcd-0f3857b61a94",
   "metadata": {},
   "outputs": [
    {
     "name": "stdout",
     "output_type": "stream",
     "text": [
      "p-value: 1.055849414662529e-43\n",
      "decision: reject\n"
     ]
    }
   ],
   "source": [
    "t_test_pval_03 = stats.ttest_ind(group_0.ctr, \n",
    "                                 group_3.ctr, \n",
    "                                 equal_var=False).pvalue\n",
    "print(\"p-value:\", t_test_pval_03)\n",
    "print(\"decision:\", \"reject\" if t_test_pval_03 <= 0.05 else \"accept\")"
   ]
  },
  {
   "cell_type": "code",
   "execution_count": 5,
   "id": "dbf2b45a-8437-4e37-8580-2fc0229cf2aa",
   "metadata": {},
   "outputs": [
    {
     "data": {
      "image/png": "[encoded data removed]",
      "text/plain": [
       "<Figure size 720x504 with 1 Axes>"
      ]
     },
     "metadata": {},
     "output_type": "display_data"
    }
   ],
   "source": [
    "sns.histplot(group_0.ctr, color=\"r\")\n",
    "sns.histplot(group_3.ctr, color=\"g\")\n",
    "plt.show()"
   ]
  },
  {
   "cell_type": "markdown",
   "id": "7b515cfe-887d-4362-949e-f9d11ac711b8",
   "metadata": {},
   "source": [
    "Группы 1 и 2"
   ]
  },
  {
   "cell_type": "code",
   "execution_count": 6,
   "id": "7c974d94-be26-43fd-a314-9bb723e64036",
   "metadata": {},
   "outputs": [
    {
     "name": "stdout",
     "output_type": "stream",
     "text": [
      "p-value: 0.4780623130874935\n",
      "decision: accept\n"
     ]
    }
   ],
   "source": [
    "t_test_pval_12 = stats.ttest_ind(group_1.ctr, \n",
    "                                 group_2.ctr, \n",
    "                                 equal_var=False).pvalue\n",
    "print(\"p-value:\", t_test_pval_12)\n",
    "print(\"decision:\", \"reject\" if t_test_pval_12 <= 0.05 else \"accept\")"
   ]
  },
  {
   "cell_type": "code",
   "execution_count": 7,
   "id": "e4a2609e-e00a-4eeb-a643-83a3c6f613f6",
   "metadata": {},
   "outputs": [
    {
     "data": {
      "image/png": "[encoded data removed]",
      "text/plain": [
       "<Figure size 720x504 with 1 Axes>"
      ]
     },
     "metadata": {},
     "output_type": "display_data"
    }
   ],
   "source": [
    "sns.histplot(group_1.ctr, color=\"r\")\n",
    "sns.histplot(group_2.ctr, color=\"g\")\n",
    "plt.show()"
   ]
  },
  {
   "cell_type": "markdown",
   "id": "97cef541-8dfc-4a54-8850-525261bd682f",
   "metadata": {},
   "source": [
    "## t-тест для linearized likes"
   ]
  },
  {
   "cell_type": "markdown",
   "id": "c7895ab1-fb78-4e80-a2a4-1cb9d38f255f",
   "metadata": {},
   "source": [
    "Группы 0 и 3"
   ]
  },
  {
   "cell_type": "code",
   "execution_count": 8,
   "id": "46313da5-4add-4129-94dd-b0612dca2000",
   "metadata": {},
   "outputs": [
    {
     "name": "stdout",
     "output_type": "stream",
     "text": [
      "p-value: 5.4914249479690016e-52\n",
      "decision: reject\n"
     ]
    }
   ],
   "source": [
    "t_test_ln_pval_03 = stats.ttest_ind(group_0.linearized_likes, \n",
    "                                    group_3.linearized_likes, \n",
    "                                    equal_var=False).pvalue\n",
    "print(\"p-value:\", t_test_ln_pval_03)\n",
    "print(\"decision:\", \"reject\" if t_test_ln_pval_03 <= 0.05 else \"accept\")"
   ]
  },
  {
   "cell_type": "code",
   "execution_count": 9,
   "id": "519e949c-64d3-4d5c-89c8-eeca867d8857",
   "metadata": {},
   "outputs": [
    {
     "data": {
      "image/png": "[encoded data removed]",
      "text/plain": [
       "<Figure size 720x504 with 1 Axes>"
      ]
     },
     "metadata": {},
     "output_type": "display_data"
    }
   ],
   "source": [
    "sns.histplot(group_0.linearized_likes, color=\"r\")\n",
    "sns.histplot(group_3.linearized_likes, color=\"g\")\n",
    "plt.show()"
   ]
  },
  {
   "cell_type": "markdown",
   "id": "bec6fd75-4ebd-4a39-9566-cb2e35279428",
   "metadata": {},
   "source": [
    "Группы 1 и 2"
   ]
  },
  {
   "cell_type": "code",
   "execution_count": 10,
   "id": "1d998e23-5eb7-4d8c-aa7c-97dee8170829",
   "metadata": {},
   "outputs": [
    {
     "name": "stdout",
     "output_type": "stream",
     "text": [
      "p-value: 9.439432187037644e-10\n",
      "decision: reject\n"
     ]
    }
   ],
   "source": [
    "t_test_ln_pval_12 = stats.ttest_ind(group_1.linearized_likes, \n",
    "                                    group_2.linearized_likes, \n",
    "                                    equal_var=False).pvalue\n",
    "print(\"p-value:\", t_test_ln_pval_12)\n",
    "print(\"decision:\", \"reject\" if t_test_ln_pval_12 <= 0.05 else \"accept\")"
   ]
  },
  {
   "cell_type": "code",
   "execution_count": 11,
   "id": "14cafe0c-2063-44e7-8b01-1f393934b224",
   "metadata": {},
   "outputs": [
    {
     "data": {
      "image/png": "[encoded data removed]",
      "text/plain": [
       "<Figure size 720x504 with 1 Axes>"
      ]
     },
     "metadata": {},
     "output_type": "display_data"
    }
   ],
   "source": [
    "sns.histplot(group_1.linearized_likes, color=\"r\")\n",
    "sns.histplot(group_2.linearized_likes, color=\"g\")\n",
    "plt.show()"
   ]
  },
  {
   "cell_type": "markdown",
   "id": "2400883a-52c0-4c1a-97ea-00396d2c96b3",
   "metadata": {},
   "source": [
    "## Вывод"
   ]
  },
  {
   "cell_type": "markdown",
   "id": "46b015d8-84b0-4378-a489-e9ca2456a917",
   "metadata": {},
   "source": [
    "1) Для групп 0 и 3 на t-test'е CTR обнаружены значимые отличия, на linearized_likes тоже обнаружены значимые отличия и p-value получился во много раз меньше, чем на t-test'е CTR.\n",
    "\n",
    "2) Для групп 1 и 2 на t-test'е CTR значимых отличий не найдено, на linearized_likes значимые отличия были обнаружены и p-value получился во много раз меньше, чем на t-test'е CTR."
   ]
  },
  {
   "cell_type": "code",
   "execution_count": null,
   "id": "aee75ac4-7203-409f-841c-5d61c64aaece",
   "metadata": {},
   "outputs": [],
   "source": []
  }
 ],
 "metadata": {
  "kernelspec": {
   "display_name": "Python 3 (ipykernel)",
   "language": "python",
   "name": "python3"
  },
  "language_info": {
   "codemirror_mode": {
    "name": "ipython",
    "version": 3
   },
   "file_extension": ".py",
   "mimetype": "text/x-python",
   "name": "python",
   "nbconvert_exporter": "python",
   "pygments_lexer": "ipython3",
   "version": "3.9.13"
  }
 },
 "nbformat": 4,
 "nbformat_minor": 5
}
